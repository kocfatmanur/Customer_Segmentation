{
 "cells": [
  {
   "cell_type": "markdown",
   "id": "ded4502a",
   "metadata": {},
   "source": [
    "# <span style=\"color:red;\">**CUSTOMER SEGMENTATİON**</span>\n"
   ]
  },
  {
   "cell_type": "markdown",
   "id": "bfcd84ee",
   "metadata": {},
   "source": [
    "## <span style=\"color:red;\">**Import Dataset**</span>"
   ]
  },
  {
   "cell_type": "code",
   "execution_count": 1,
   "id": "1730405f",
   "metadata": {
    "ExecuteTime": {
     "end_time": "2024-10-03T13:31:40.076764Z",
     "start_time": "2024-10-03T13:31:37.597596Z"
    }
   },
   "outputs": [],
   "source": [
    "import numpy as np\n",
    "import pandas as pd\n",
    "import seaborn as sns\n",
    "import matplotlib.pyplot as plt\n",
    "import datetime as dt\n",
    "import plotly.express as px # charts plotting\n",
    "import plotly.graph_objects as go # more customized plotting\n",
    "\n",
    "%matplotlib inline\n",
    "#%matplotlib notebook\n",
    "plt.rcParams[\"figure.figsize\"] = (10,6)\n",
    "import warnings\n",
    "warnings.filterwarnings(\"ignore\")\n",
    "warnings.warn(\"this will not show\")\n",
    "pd.set_option('display.float_format', lambda x: '%.3f' % x)"
   ]
  },
  {
   "cell_type": "markdown",
   "id": "d7c12430",
   "metadata": {},
   "source": [
    "## <span style=\"color:red;\">**Read Dataset**</span>"
   ]
  },
  {
   "cell_type": "code",
   "execution_count": 2,
   "id": "2d0afe9d",
   "metadata": {
    "ExecuteTime": {
     "end_time": "2024-10-03T13:31:41.939052Z",
     "start_time": "2024-10-03T13:31:41.884925Z"
    }
   },
   "outputs": [
    {
     "data": {
      "text/html": [
       "<div>\n",
       "<style scoped>\n",
       "    .dataframe tbody tr th:only-of-type {\n",
       "        vertical-align: middle;\n",
       "    }\n",
       "\n",
       "    .dataframe tbody tr th {\n",
       "        vertical-align: top;\n",
       "    }\n",
       "\n",
       "    .dataframe thead th {\n",
       "        text-align: right;\n",
       "    }\n",
       "</style>\n",
       "<table border=\"1\" class=\"dataframe\">\n",
       "  <thead>\n",
       "    <tr style=\"text-align: right;\">\n",
       "      <th></th>\n",
       "      <th>ID</th>\n",
       "      <th>Gender</th>\n",
       "      <th>Ever_Married</th>\n",
       "      <th>Age</th>\n",
       "      <th>Graduated</th>\n",
       "      <th>Profession</th>\n",
       "      <th>Work_Experience</th>\n",
       "      <th>Spending_Score</th>\n",
       "      <th>Family_Size</th>\n",
       "      <th>Var_1</th>\n",
       "      <th>Segmentation</th>\n",
       "    </tr>\n",
       "  </thead>\n",
       "  <tbody>\n",
       "    <tr>\n",
       "      <th>0</th>\n",
       "      <td>462809</td>\n",
       "      <td>Male</td>\n",
       "      <td>No</td>\n",
       "      <td>22</td>\n",
       "      <td>No</td>\n",
       "      <td>Healthcare</td>\n",
       "      <td>1.000</td>\n",
       "      <td>Low</td>\n",
       "      <td>4.000</td>\n",
       "      <td>Cat_4</td>\n",
       "      <td>D</td>\n",
       "    </tr>\n",
       "    <tr>\n",
       "      <th>1</th>\n",
       "      <td>462643</td>\n",
       "      <td>Female</td>\n",
       "      <td>Yes</td>\n",
       "      <td>38</td>\n",
       "      <td>Yes</td>\n",
       "      <td>Engineer</td>\n",
       "      <td>NaN</td>\n",
       "      <td>Average</td>\n",
       "      <td>3.000</td>\n",
       "      <td>Cat_4</td>\n",
       "      <td>A</td>\n",
       "    </tr>\n",
       "    <tr>\n",
       "      <th>2</th>\n",
       "      <td>466315</td>\n",
       "      <td>Female</td>\n",
       "      <td>Yes</td>\n",
       "      <td>67</td>\n",
       "      <td>Yes</td>\n",
       "      <td>Engineer</td>\n",
       "      <td>1.000</td>\n",
       "      <td>Low</td>\n",
       "      <td>1.000</td>\n",
       "      <td>Cat_6</td>\n",
       "      <td>B</td>\n",
       "    </tr>\n",
       "    <tr>\n",
       "      <th>3</th>\n",
       "      <td>461735</td>\n",
       "      <td>Male</td>\n",
       "      <td>Yes</td>\n",
       "      <td>67</td>\n",
       "      <td>Yes</td>\n",
       "      <td>Lawyer</td>\n",
       "      <td>0.000</td>\n",
       "      <td>High</td>\n",
       "      <td>2.000</td>\n",
       "      <td>Cat_6</td>\n",
       "      <td>B</td>\n",
       "    </tr>\n",
       "    <tr>\n",
       "      <th>4</th>\n",
       "      <td>462669</td>\n",
       "      <td>Female</td>\n",
       "      <td>Yes</td>\n",
       "      <td>40</td>\n",
       "      <td>Yes</td>\n",
       "      <td>Entertainment</td>\n",
       "      <td>NaN</td>\n",
       "      <td>High</td>\n",
       "      <td>6.000</td>\n",
       "      <td>Cat_6</td>\n",
       "      <td>A</td>\n",
       "    </tr>\n",
       "    <tr>\n",
       "      <th>...</th>\n",
       "      <td>...</td>\n",
       "      <td>...</td>\n",
       "      <td>...</td>\n",
       "      <td>...</td>\n",
       "      <td>...</td>\n",
       "      <td>...</td>\n",
       "      <td>...</td>\n",
       "      <td>...</td>\n",
       "      <td>...</td>\n",
       "      <td>...</td>\n",
       "      <td>...</td>\n",
       "    </tr>\n",
       "    <tr>\n",
       "      <th>8063</th>\n",
       "      <td>464018</td>\n",
       "      <td>Male</td>\n",
       "      <td>No</td>\n",
       "      <td>22</td>\n",
       "      <td>No</td>\n",
       "      <td>NaN</td>\n",
       "      <td>0.000</td>\n",
       "      <td>Low</td>\n",
       "      <td>7.000</td>\n",
       "      <td>Cat_1</td>\n",
       "      <td>D</td>\n",
       "    </tr>\n",
       "    <tr>\n",
       "      <th>8064</th>\n",
       "      <td>464685</td>\n",
       "      <td>Male</td>\n",
       "      <td>No</td>\n",
       "      <td>35</td>\n",
       "      <td>No</td>\n",
       "      <td>Executive</td>\n",
       "      <td>3.000</td>\n",
       "      <td>Low</td>\n",
       "      <td>4.000</td>\n",
       "      <td>Cat_4</td>\n",
       "      <td>D</td>\n",
       "    </tr>\n",
       "    <tr>\n",
       "      <th>8065</th>\n",
       "      <td>465406</td>\n",
       "      <td>Female</td>\n",
       "      <td>No</td>\n",
       "      <td>33</td>\n",
       "      <td>Yes</td>\n",
       "      <td>Healthcare</td>\n",
       "      <td>1.000</td>\n",
       "      <td>Low</td>\n",
       "      <td>1.000</td>\n",
       "      <td>Cat_6</td>\n",
       "      <td>D</td>\n",
       "    </tr>\n",
       "    <tr>\n",
       "      <th>8066</th>\n",
       "      <td>467299</td>\n",
       "      <td>Female</td>\n",
       "      <td>No</td>\n",
       "      <td>27</td>\n",
       "      <td>Yes</td>\n",
       "      <td>Healthcare</td>\n",
       "      <td>1.000</td>\n",
       "      <td>Low</td>\n",
       "      <td>4.000</td>\n",
       "      <td>Cat_6</td>\n",
       "      <td>B</td>\n",
       "    </tr>\n",
       "    <tr>\n",
       "      <th>8067</th>\n",
       "      <td>461879</td>\n",
       "      <td>Male</td>\n",
       "      <td>Yes</td>\n",
       "      <td>37</td>\n",
       "      <td>Yes</td>\n",
       "      <td>Executive</td>\n",
       "      <td>0.000</td>\n",
       "      <td>Average</td>\n",
       "      <td>3.000</td>\n",
       "      <td>Cat_4</td>\n",
       "      <td>B</td>\n",
       "    </tr>\n",
       "  </tbody>\n",
       "</table>\n",
       "<p>8068 rows × 11 columns</p>\n",
       "</div>"
      ],
      "text/plain": [
       "          ID  Gender Ever_Married  Age Graduated     Profession  \\\n",
       "0     462809    Male           No   22        No     Healthcare   \n",
       "1     462643  Female          Yes   38       Yes       Engineer   \n",
       "2     466315  Female          Yes   67       Yes       Engineer   \n",
       "3     461735    Male          Yes   67       Yes         Lawyer   \n",
       "4     462669  Female          Yes   40       Yes  Entertainment   \n",
       "...      ...     ...          ...  ...       ...            ...   \n",
       "8063  464018    Male           No   22        No            NaN   \n",
       "8064  464685    Male           No   35        No      Executive   \n",
       "8065  465406  Female           No   33       Yes     Healthcare   \n",
       "8066  467299  Female           No   27       Yes     Healthcare   \n",
       "8067  461879    Male          Yes   37       Yes      Executive   \n",
       "\n",
       "      Work_Experience Spending_Score  Family_Size  Var_1 Segmentation  \n",
       "0               1.000            Low        4.000  Cat_4            D  \n",
       "1                 NaN        Average        3.000  Cat_4            A  \n",
       "2               1.000            Low        1.000  Cat_6            B  \n",
       "3               0.000           High        2.000  Cat_6            B  \n",
       "4                 NaN           High        6.000  Cat_6            A  \n",
       "...               ...            ...          ...    ...          ...  \n",
       "8063            0.000            Low        7.000  Cat_1            D  \n",
       "8064            3.000            Low        4.000  Cat_4            D  \n",
       "8065            1.000            Low        1.000  Cat_6            D  \n",
       "8066            1.000            Low        4.000  Cat_6            B  \n",
       "8067            0.000        Average        3.000  Cat_4            B  \n",
       "\n",
       "[8068 rows x 11 columns]"
      ]
     },
     "execution_count": 2,
     "metadata": {},
     "output_type": "execute_result"
    }
   ],
   "source": [
    "df0 = pd.read_csv(\"Train.csv\")\n",
    "df = df0.copy()\n",
    "df"
   ]
  },
  {
   "cell_type": "markdown",
   "id": "d2386b4b",
   "metadata": {
    "ExecuteTime": {
     "end_time": "2024-10-03T11:58:33.563974Z",
     "start_time": "2024-10-03T11:58:33.458075Z"
    }
   },
   "source": [
    "<h2 style=\"text-align: center; color: red;\">Customer Segmentation Dataset Variables</h2>\n",
    "\n",
    "<table style=\"width:100%; border-collapse: collapse; text-align: center;\">\n",
    "  <tr style=\"background-color: red; color: white;\">\n",
    "    <th style=\"padding: 10px; border: 1px solid black;\">Variable</th>\n",
    "    <th style=\"padding: 10px; border: 1px solid black;\">Definition</th>\n",
    "  </tr>\n",
    "  <tr>\n",
    "    <td style=\"padding: 10px; border: 1px solid black;\">ID</td>\n",
    "    <td style=\"padding: 10px; border: 1px solid black;\">Unique ID</td>\n",
    "  </tr>\n",
    "  <tr>\n",
    "    <td style=\"padding: 10px; border: 1px solid black;\">Gender</td>\n",
    "    <td style=\"padding: 10px; border: 1px solid black;\">Gender of the customer</td>\n",
    "  </tr>\n",
    "  <tr>\n",
    "    <td style=\"padding: 10px; border: 1px solid black;\">Ever_Married</td>\n",
    "    <td style=\"padding: 10px; border: 1px solid black;\">Marital status of the customer</td>\n",
    "  </tr>\n",
    "  <tr>\n",
    "    <td style=\"padding: 10px; border: 1px solid black;\">Age</td>\n",
    "    <td style=\"padding: 10px; border: 1px solid black;\">Age of the customer</td>\n",
    "  </tr>\n",
    "  <tr>\n",
    "    <td style=\"padding: 10px; border: 1px solid black;\">Graduated</td>\n",
    "    <td style=\"padding: 10px; border: 1px solid black;\">Is the customer a graduate?</td>\n",
    "  </tr>\n",
    "  <tr>\n",
    "    <td style=\"padding: 10px; border: 1px solid black;\">Profession</td>\n",
    "    <td style=\"padding: 10px; border: 1px solid black;\">Profession of the customer</td>\n",
    "  </tr>\n",
    "  <tr>\n",
    "    <td style=\"padding: 10px; border: 1px solid black;\">Work_Experience</td>\n",
    "    <td style=\"padding: 10px; border: 1px solid black;\">Work Experience in years</td>\n",
    "  </tr>\n",
    "  <tr>\n",
    "    <td style=\"padding: 10px; border: 1px solid black;\">Spending_Score</td>\n",
    "    <td style=\"padding: 10px; border: 1px solid black;\">Spending score of the customer</td>\n",
    "  </tr>\n",
    "  <tr>\n",
    "    <td style=\"padding: 10px; border: 1px solid black;\">Family_Size</td>\n",
    "    <td style=\"padding: 10px; border: 1px solid black;\">Number of family members for the customer (including the customer)</td>\n",
    "  </tr>\n",
    "  <tr>\n",
    "    <td style=\"padding: 10px; border: 1px solid black;\">Var_1</td>\n",
    "    <td style=\"padding: 10px; border: 1px solid black;\">Anonymised Category for the customer</td>\n",
    "  </tr>\n",
    "  <tr>\n",
    "    <td style=\"padding: 10px; border: 1px solid black;\">Segmentation</td>\n",
    "    <td style=\"padding: 10px; border: 1px solid black;\">(Target) Customer Segment of the customer</td>\n",
    "  </tr>\n",
    "</table>\n"
   ]
  },
  {
   "cell_type": "markdown",
   "id": "a8cf37a6",
   "metadata": {},
   "source": [
    "## <span style=\"color:red;\">**EDA**</span>\n"
   ]
  },
  {
   "cell_type": "code",
   "execution_count": 3,
   "id": "1cf72b0e",
   "metadata": {
    "ExecuteTime": {
     "end_time": "2024-10-03T13:31:51.679193Z",
     "start_time": "2024-10-03T13:31:51.659660Z"
    }
   },
   "outputs": [
    {
     "name": "stdout",
     "output_type": "stream",
     "text": [
      "<class 'pandas.core.frame.DataFrame'>\n",
      "RangeIndex: 8068 entries, 0 to 8067\n",
      "Data columns (total 11 columns):\n",
      " #   Column           Non-Null Count  Dtype  \n",
      "---  ------           --------------  -----  \n",
      " 0   ID               8068 non-null   int64  \n",
      " 1   Gender           8068 non-null   object \n",
      " 2   Ever_Married     7928 non-null   object \n",
      " 3   Age              8068 non-null   int64  \n",
      " 4   Graduated        7990 non-null   object \n",
      " 5   Profession       7944 non-null   object \n",
      " 6   Work_Experience  7239 non-null   float64\n",
      " 7   Spending_Score   8068 non-null   object \n",
      " 8   Family_Size      7733 non-null   float64\n",
      " 9   Var_1            7992 non-null   object \n",
      " 10  Segmentation     8068 non-null   object \n",
      "dtypes: float64(2), int64(2), object(7)\n",
      "memory usage: 693.5+ KB\n"
     ]
    }
   ],
   "source": [
    "df.info()"
   ]
  },
  {
   "cell_type": "code",
   "execution_count": 4,
   "id": "d729e898",
   "metadata": {
    "ExecuteTime": {
     "end_time": "2024-10-03T13:31:57.177968Z",
     "start_time": "2024-10-03T13:31:57.171487Z"
    }
   },
   "outputs": [
    {
     "data": {
      "text/plain": [
       "(8068, 11)"
      ]
     },
     "execution_count": 4,
     "metadata": {},
     "output_type": "execute_result"
    }
   ],
   "source": [
    "df.shape"
   ]
  },
  {
   "cell_type": "code",
   "execution_count": 5,
   "id": "16aa9313",
   "metadata": {
    "ExecuteTime": {
     "end_time": "2024-10-03T13:32:01.701044Z",
     "start_time": "2024-10-03T13:32:01.693919Z"
    }
   },
   "outputs": [
    {
     "data": {
      "text/plain": [
       "Index(['ID', 'Gender', 'Ever_Married', 'Age', 'Graduated', 'Profession',\n",
       "       'Work_Experience', 'Spending_Score', 'Family_Size', 'Var_1',\n",
       "       'Segmentation'],\n",
       "      dtype='object')"
      ]
     },
     "execution_count": 5,
     "metadata": {},
     "output_type": "execute_result"
    }
   ],
   "source": [
    "df.columns"
   ]
  },
  {
   "cell_type": "code",
   "execution_count": 6,
   "id": "c6253550",
   "metadata": {
    "ExecuteTime": {
     "end_time": "2024-10-03T13:32:05.217752Z",
     "start_time": "2024-10-03T13:32:05.207019Z"
    }
   },
   "outputs": [
    {
     "data": {
      "text/plain": [
       "ID                   0\n",
       "Gender               0\n",
       "Ever_Married       140\n",
       "Age                  0\n",
       "Graduated           78\n",
       "Profession         124\n",
       "Work_Experience    829\n",
       "Spending_Score       0\n",
       "Family_Size        335\n",
       "Var_1               76\n",
       "Segmentation         0\n",
       "dtype: int64"
      ]
     },
     "execution_count": 6,
     "metadata": {},
     "output_type": "execute_result"
    }
   ],
   "source": [
    "df.isnull().sum()"
   ]
  },
  {
   "cell_type": "code",
   "execution_count": 7,
   "id": "31b8cbb8",
   "metadata": {
    "ExecuteTime": {
     "end_time": "2024-10-03T13:32:17.345280Z",
     "start_time": "2024-10-03T13:32:17.340817Z"
    }
   },
   "outputs": [],
   "source": [
    "numeric_list = ['Age', 'Work_Experience', 'Family_Size']\n",
    "categorical_list = ['Gender', 'Ever_Married', 'Graduated', 'Profession', 'Spending_Score']"
   ]
  },
  {
   "cell_type": "code",
   "execution_count": 8,
   "id": "76af5e8c",
   "metadata": {
    "ExecuteTime": {
     "end_time": "2024-10-03T13:32:34.502392Z",
     "start_time": "2024-10-03T13:32:34.484887Z"
    }
   },
   "outputs": [
    {
     "data": {
      "text/html": [
       "<div>\n",
       "<style scoped>\n",
       "    .dataframe tbody tr th:only-of-type {\n",
       "        vertical-align: middle;\n",
       "    }\n",
       "\n",
       "    .dataframe tbody tr th {\n",
       "        vertical-align: top;\n",
       "    }\n",
       "\n",
       "    .dataframe thead th {\n",
       "        text-align: right;\n",
       "    }\n",
       "</style>\n",
       "<table border=\"1\" class=\"dataframe\">\n",
       "  <thead>\n",
       "    <tr style=\"text-align: right;\">\n",
       "      <th></th>\n",
       "      <th>Gender</th>\n",
       "      <th>Ever_Married</th>\n",
       "      <th>Graduated</th>\n",
       "      <th>Profession</th>\n",
       "      <th>Spending_Score</th>\n",
       "      <th>Var_1</th>\n",
       "      <th>Segmentation</th>\n",
       "    </tr>\n",
       "  </thead>\n",
       "  <tbody>\n",
       "    <tr>\n",
       "      <th>0</th>\n",
       "      <td>Male</td>\n",
       "      <td>No</td>\n",
       "      <td>No</td>\n",
       "      <td>Healthcare</td>\n",
       "      <td>Low</td>\n",
       "      <td>Cat_4</td>\n",
       "      <td>D</td>\n",
       "    </tr>\n",
       "    <tr>\n",
       "      <th>1</th>\n",
       "      <td>Female</td>\n",
       "      <td>Yes</td>\n",
       "      <td>Yes</td>\n",
       "      <td>Engineer</td>\n",
       "      <td>Average</td>\n",
       "      <td>Cat_4</td>\n",
       "      <td>A</td>\n",
       "    </tr>\n",
       "    <tr>\n",
       "      <th>2</th>\n",
       "      <td>Female</td>\n",
       "      <td>Yes</td>\n",
       "      <td>Yes</td>\n",
       "      <td>Engineer</td>\n",
       "      <td>Low</td>\n",
       "      <td>Cat_6</td>\n",
       "      <td>B</td>\n",
       "    </tr>\n",
       "    <tr>\n",
       "      <th>3</th>\n",
       "      <td>Male</td>\n",
       "      <td>Yes</td>\n",
       "      <td>Yes</td>\n",
       "      <td>Lawyer</td>\n",
       "      <td>High</td>\n",
       "      <td>Cat_6</td>\n",
       "      <td>B</td>\n",
       "    </tr>\n",
       "    <tr>\n",
       "      <th>4</th>\n",
       "      <td>Female</td>\n",
       "      <td>Yes</td>\n",
       "      <td>Yes</td>\n",
       "      <td>Entertainment</td>\n",
       "      <td>High</td>\n",
       "      <td>Cat_6</td>\n",
       "      <td>A</td>\n",
       "    </tr>\n",
       "    <tr>\n",
       "      <th>...</th>\n",
       "      <td>...</td>\n",
       "      <td>...</td>\n",
       "      <td>...</td>\n",
       "      <td>...</td>\n",
       "      <td>...</td>\n",
       "      <td>...</td>\n",
       "      <td>...</td>\n",
       "    </tr>\n",
       "    <tr>\n",
       "      <th>8063</th>\n",
       "      <td>Male</td>\n",
       "      <td>No</td>\n",
       "      <td>No</td>\n",
       "      <td>NaN</td>\n",
       "      <td>Low</td>\n",
       "      <td>Cat_1</td>\n",
       "      <td>D</td>\n",
       "    </tr>\n",
       "    <tr>\n",
       "      <th>8064</th>\n",
       "      <td>Male</td>\n",
       "      <td>No</td>\n",
       "      <td>No</td>\n",
       "      <td>Executive</td>\n",
       "      <td>Low</td>\n",
       "      <td>Cat_4</td>\n",
       "      <td>D</td>\n",
       "    </tr>\n",
       "    <tr>\n",
       "      <th>8065</th>\n",
       "      <td>Female</td>\n",
       "      <td>No</td>\n",
       "      <td>Yes</td>\n",
       "      <td>Healthcare</td>\n",
       "      <td>Low</td>\n",
       "      <td>Cat_6</td>\n",
       "      <td>D</td>\n",
       "    </tr>\n",
       "    <tr>\n",
       "      <th>8066</th>\n",
       "      <td>Female</td>\n",
       "      <td>No</td>\n",
       "      <td>Yes</td>\n",
       "      <td>Healthcare</td>\n",
       "      <td>Low</td>\n",
       "      <td>Cat_6</td>\n",
       "      <td>B</td>\n",
       "    </tr>\n",
       "    <tr>\n",
       "      <th>8067</th>\n",
       "      <td>Male</td>\n",
       "      <td>Yes</td>\n",
       "      <td>Yes</td>\n",
       "      <td>Executive</td>\n",
       "      <td>Average</td>\n",
       "      <td>Cat_4</td>\n",
       "      <td>B</td>\n",
       "    </tr>\n",
       "  </tbody>\n",
       "</table>\n",
       "<p>8068 rows × 7 columns</p>\n",
       "</div>"
      ],
      "text/plain": [
       "      Gender Ever_Married Graduated     Profession Spending_Score  Var_1  \\\n",
       "0       Male           No        No     Healthcare            Low  Cat_4   \n",
       "1     Female          Yes       Yes       Engineer        Average  Cat_4   \n",
       "2     Female          Yes       Yes       Engineer            Low  Cat_6   \n",
       "3       Male          Yes       Yes         Lawyer           High  Cat_6   \n",
       "4     Female          Yes       Yes  Entertainment           High  Cat_6   \n",
       "...      ...          ...       ...            ...            ...    ...   \n",
       "8063    Male           No        No            NaN            Low  Cat_1   \n",
       "8064    Male           No        No      Executive            Low  Cat_4   \n",
       "8065  Female           No       Yes     Healthcare            Low  Cat_6   \n",
       "8066  Female           No       Yes     Healthcare            Low  Cat_6   \n",
       "8067    Male          Yes       Yes      Executive        Average  Cat_4   \n",
       "\n",
       "     Segmentation  \n",
       "0               D  \n",
       "1               A  \n",
       "2               B  \n",
       "3               B  \n",
       "4               A  \n",
       "...           ...  \n",
       "8063            D  \n",
       "8064            D  \n",
       "8065            D  \n",
       "8066            B  \n",
       "8067            B  \n",
       "\n",
       "[8068 rows x 7 columns]"
      ]
     },
     "execution_count": 8,
     "metadata": {},
     "output_type": "execute_result"
    }
   ],
   "source": [
    "df.select_dtypes(include= \"object\")"
   ]
  },
  {
   "cell_type": "code",
   "execution_count": 9,
   "id": "45547b48",
   "metadata": {
    "ExecuteTime": {
     "end_time": "2024-10-03T13:32:35.038907Z",
     "start_time": "2024-10-03T13:32:35.005611Z"
    }
   },
   "outputs": [
    {
     "data": {
      "text/html": [
       "<div>\n",
       "<style scoped>\n",
       "    .dataframe tbody tr th:only-of-type {\n",
       "        vertical-align: middle;\n",
       "    }\n",
       "\n",
       "    .dataframe tbody tr th {\n",
       "        vertical-align: top;\n",
       "    }\n",
       "\n",
       "    .dataframe thead th {\n",
       "        text-align: right;\n",
       "    }\n",
       "</style>\n",
       "<table border=\"1\" class=\"dataframe\">\n",
       "  <thead>\n",
       "    <tr style=\"text-align: right;\">\n",
       "      <th></th>\n",
       "      <th>count</th>\n",
       "      <th>unique</th>\n",
       "      <th>top</th>\n",
       "      <th>freq</th>\n",
       "    </tr>\n",
       "  </thead>\n",
       "  <tbody>\n",
       "    <tr>\n",
       "      <th>Gender</th>\n",
       "      <td>8068</td>\n",
       "      <td>2</td>\n",
       "      <td>Male</td>\n",
       "      <td>4417</td>\n",
       "    </tr>\n",
       "    <tr>\n",
       "      <th>Ever_Married</th>\n",
       "      <td>7928</td>\n",
       "      <td>2</td>\n",
       "      <td>Yes</td>\n",
       "      <td>4643</td>\n",
       "    </tr>\n",
       "    <tr>\n",
       "      <th>Graduated</th>\n",
       "      <td>7990</td>\n",
       "      <td>2</td>\n",
       "      <td>Yes</td>\n",
       "      <td>4968</td>\n",
       "    </tr>\n",
       "    <tr>\n",
       "      <th>Profession</th>\n",
       "      <td>7944</td>\n",
       "      <td>9</td>\n",
       "      <td>Artist</td>\n",
       "      <td>2516</td>\n",
       "    </tr>\n",
       "    <tr>\n",
       "      <th>Spending_Score</th>\n",
       "      <td>8068</td>\n",
       "      <td>3</td>\n",
       "      <td>Low</td>\n",
       "      <td>4878</td>\n",
       "    </tr>\n",
       "    <tr>\n",
       "      <th>Var_1</th>\n",
       "      <td>7992</td>\n",
       "      <td>7</td>\n",
       "      <td>Cat_6</td>\n",
       "      <td>5238</td>\n",
       "    </tr>\n",
       "    <tr>\n",
       "      <th>Segmentation</th>\n",
       "      <td>8068</td>\n",
       "      <td>4</td>\n",
       "      <td>D</td>\n",
       "      <td>2268</td>\n",
       "    </tr>\n",
       "  </tbody>\n",
       "</table>\n",
       "</div>"
      ],
      "text/plain": [
       "               count unique     top  freq\n",
       "Gender          8068      2    Male  4417\n",
       "Ever_Married    7928      2     Yes  4643\n",
       "Graduated       7990      2     Yes  4968\n",
       "Profession      7944      9  Artist  2516\n",
       "Spending_Score  8068      3     Low  4878\n",
       "Var_1           7992      7   Cat_6  5238\n",
       "Segmentation    8068      4       D  2268"
      ]
     },
     "execution_count": 9,
     "metadata": {},
     "output_type": "execute_result"
    }
   ],
   "source": [
    "df.select_dtypes(include= \"object\").describe().T"
   ]
  },
  {
   "cell_type": "code",
   "execution_count": 10,
   "id": "1fd1ab0d",
   "metadata": {
    "ExecuteTime": {
     "end_time": "2024-10-03T13:32:41.294274Z",
     "start_time": "2024-10-03T13:32:41.281308Z"
    }
   },
   "outputs": [
    {
     "data": {
      "text/plain": [
       "Profession\n",
       "Artist           2516\n",
       "Healthcare       1332\n",
       "Entertainment     949\n",
       "Engineer          699\n",
       "Doctor            688\n",
       "Lawyer            623\n",
       "Executive         599\n",
       "Marketing         292\n",
       "Homemaker         246\n",
       "Name: count, dtype: int64"
      ]
     },
     "execution_count": 10,
     "metadata": {},
     "output_type": "execute_result"
    }
   ],
   "source": [
    "df[\"Profession\"].value_counts()"
   ]
  },
  {
   "cell_type": "code",
   "execution_count": 11,
   "id": "c72c2729",
   "metadata": {
    "ExecuteTime": {
     "end_time": "2024-10-03T13:32:42.830334Z",
     "start_time": "2024-10-03T13:32:42.810396Z"
    }
   },
   "outputs": [
    {
     "name": "stdout",
     "output_type": "stream",
     "text": [
      "Gender\n",
      "***\n",
      "Gender\n",
      "Male      4417\n",
      "Female    3651\n",
      "Name: count, dtype: int64\n",
      "***********\n",
      "Ever_Married\n",
      "***\n",
      "Ever_Married\n",
      "Yes    4643\n",
      "No     3285\n",
      "Name: count, dtype: int64\n",
      "***********\n",
      "Graduated\n",
      "***\n",
      "Graduated\n",
      "Yes    4968\n",
      "No     3022\n",
      "Name: count, dtype: int64\n",
      "***********\n",
      "Profession\n",
      "***\n",
      "Profession\n",
      "Artist           2516\n",
      "Healthcare       1332\n",
      "Entertainment     949\n",
      "Engineer          699\n",
      "Doctor            688\n",
      "Lawyer            623\n",
      "Executive         599\n",
      "Marketing         292\n",
      "Homemaker         246\n",
      "Name: count, dtype: int64\n",
      "***********\n",
      "Spending_Score\n",
      "***\n",
      "Spending_Score\n",
      "Low        4878\n",
      "Average    1974\n",
      "High       1216\n",
      "Name: count, dtype: int64\n",
      "***********\n",
      "Var_1\n",
      "***\n",
      "Var_1\n",
      "Cat_6    5238\n",
      "Cat_4    1089\n",
      "Cat_3     822\n",
      "Cat_2     422\n",
      "Cat_7     203\n",
      "Cat_1     133\n",
      "Cat_5      85\n",
      "Name: count, dtype: int64\n",
      "***********\n",
      "Segmentation\n",
      "***\n",
      "Segmentation\n",
      "D    2268\n",
      "A    1972\n",
      "C    1970\n",
      "B    1858\n",
      "Name: count, dtype: int64\n",
      "***********\n"
     ]
    }
   ],
   "source": [
    "for col in df.select_dtypes(include = \"object\"):\n",
    "    print(col)\n",
    "    print(\"***\")\n",
    "    print(df[col].value_counts())\n",
    "    print(\"***********\")"
   ]
  },
  {
   "cell_type": "code",
   "execution_count": 12,
   "id": "52f47ed6",
   "metadata": {
    "ExecuteTime": {
     "end_time": "2024-10-03T13:32:49.992602Z",
     "start_time": "2024-10-03T13:32:49.969956Z"
    }
   },
   "outputs": [
    {
     "name": "stdout",
     "output_type": "stream",
     "text": [
      "'Yes' olanların en küçük yaşı: 18\n",
      "'Yes' olanların en büyük yaşı: 89\n",
      "'No' olanların en küçük yaşı: 18\n",
      "'No' olanların en büyük yaşı: 89\n"
     ]
    }
   ],
   "source": [
    "\n",
    "yes_graduated_min_age = df[df['Graduated'] == 'Yes']['Age'].min()\n",
    "yes_graduated_max_age = df[df['Graduated'] == 'Yes']['Age'].max()\n",
    "\n",
    "\n",
    "no_graduated_min_age = df[df['Graduated'] == 'No']['Age'].min() if 'No' in df['Graduated'].unique() else None\n",
    "no_graduated_max_age = df[df['Graduated'] == 'No']['Age'].max() if 'No' in df['Graduated'].unique() else None\n",
    "\n",
    "print(f\"'Yes' olanların en küçük yaşı: {yes_graduated_min_age}\")\n",
    "print(f\"'Yes' olanların en büyük yaşı: {yes_graduated_max_age}\")\n",
    "print(f\"'No' olanların en küçük yaşı: {no_graduated_min_age}\")\n",
    "print(f\"'No' olanların en büyük yaşı: {no_graduated_max_age}\")"
   ]
  },
  {
   "cell_type": "code",
   "execution_count": 13,
   "id": "a08664ec",
   "metadata": {
    "ExecuteTime": {
     "end_time": "2024-10-03T13:33:01.101364Z",
     "start_time": "2024-10-03T13:33:01.084202Z"
    }
   },
   "outputs": [
    {
     "name": "stdout",
     "output_type": "stream",
     "text": [
      "          ID  Gender Ever_Married  Age Graduated     Profession  \\\n",
      "0     462809    Male           No   22        No     Healthcare   \n",
      "1     462643  Female          Yes   38       Yes       Engineer   \n",
      "2     466315  Female          Yes   67       Yes       Engineer   \n",
      "3     461735    Male          Yes   67       Yes         Lawyer   \n",
      "4     462669  Female          Yes   40       Yes  Entertainment   \n",
      "...      ...     ...          ...  ...       ...            ...   \n",
      "8063  464018    Male           No   22        No            NaN   \n",
      "8064  464685    Male           No   35        No      Executive   \n",
      "8065  465406  Female           No   33       Yes     Healthcare   \n",
      "8066  467299  Female           No   27       Yes     Healthcare   \n",
      "8067  461879    Male          Yes   37       Yes      Executive   \n",
      "\n",
      "      Work_Experience Spending_Score  Family_Size  Var_1 Segmentation  \n",
      "0               1.000            Low        4.000  Cat_4            D  \n",
      "1                 NaN        Average        3.000  Cat_4            A  \n",
      "2               1.000            Low        1.000  Cat_6            B  \n",
      "3               0.000           High        2.000  Cat_6            B  \n",
      "4                 NaN           High        6.000  Cat_6            A  \n",
      "...               ...            ...          ...    ...          ...  \n",
      "8063            0.000            Low        7.000  Cat_1            D  \n",
      "8064            3.000            Low        4.000  Cat_4            D  \n",
      "8065            1.000            Low        1.000  Cat_6            D  \n",
      "8066            1.000            Low        4.000  Cat_6            B  \n",
      "8067            0.000        Average        3.000  Cat_4            B  \n",
      "\n",
      "[8068 rows x 11 columns]\n"
     ]
    }
   ],
   "source": [
    "# Ever_Married sütununda NaN olan ve Family_Size değeri 2.0'dan büyük olan satırları 'Yes' ile doldur\n",
    "df.loc[(df['Ever_Married'].isna()) & (df['Family_Size'] >= 2.0), 'Ever_Married'] = 'Yes'\n",
    "\n",
    "# Sonucu göster\n",
    "print(df)"
   ]
  },
  {
   "cell_type": "code",
   "execution_count": 14,
   "id": "e90ff7c7",
   "metadata": {
    "ExecuteTime": {
     "end_time": "2024-10-03T13:33:02.439383Z",
     "start_time": "2024-10-03T13:33:02.424606Z"
    }
   },
   "outputs": [
    {
     "name": "stdout",
     "output_type": "stream",
     "text": [
      "          ID  Gender Ever_Married  Age Graduated     Profession  \\\n",
      "0     462809    Male           No   22        No     Healthcare   \n",
      "1     462643  Female          Yes   38       Yes       Engineer   \n",
      "2     466315  Female          Yes   67       Yes       Engineer   \n",
      "3     461735    Male          Yes   67       Yes         Lawyer   \n",
      "4     462669  Female          Yes   40       Yes  Entertainment   \n",
      "...      ...     ...          ...  ...       ...            ...   \n",
      "8063  464018    Male           No   22        No            NaN   \n",
      "8064  464685    Male           No   35        No      Executive   \n",
      "8065  465406  Female           No   33       Yes     Healthcare   \n",
      "8066  467299  Female           No   27       Yes     Healthcare   \n",
      "8067  461879    Male          Yes   37       Yes      Executive   \n",
      "\n",
      "      Work_Experience Spending_Score  Family_Size  Var_1 Segmentation  \n",
      "0               1.000            Low        4.000  Cat_4            D  \n",
      "1                 NaN        Average        3.000  Cat_4            A  \n",
      "2               1.000            Low        1.000  Cat_6            B  \n",
      "3               0.000           High        2.000  Cat_6            B  \n",
      "4                 NaN           High        6.000  Cat_6            A  \n",
      "...               ...            ...          ...    ...          ...  \n",
      "8063            0.000            Low        7.000  Cat_1            D  \n",
      "8064            3.000            Low        4.000  Cat_4            D  \n",
      "8065            1.000            Low        1.000  Cat_6            D  \n",
      "8066            1.000            Low        4.000  Cat_6            B  \n",
      "8067            0.000        Average        3.000  Cat_4            B  \n",
      "\n",
      "[8068 rows x 11 columns]\n"
     ]
    }
   ],
   "source": [
    "# Ever_Married sütununda NaN olan ve Family_Size değeri 2.0'dan büyük olan satırları 'Yes' ile doldur\n",
    "df.loc[(df['Ever_Married'].isna()) & (df['Family_Size'] < 2.0), 'Ever_Married'] = 'No'\n",
    "\n",
    "# Sonucu göster\n",
    "print(df)"
   ]
  },
  {
   "cell_type": "code",
   "execution_count": 15,
   "id": "f719e772",
   "metadata": {
    "ExecuteTime": {
     "end_time": "2024-10-03T13:33:03.753426Z",
     "start_time": "2024-10-03T13:33:03.740960Z"
    }
   },
   "outputs": [
    {
     "data": {
      "text/plain": [
       "ID                   0\n",
       "Gender               0\n",
       "Ever_Married        12\n",
       "Age                  0\n",
       "Graduated           78\n",
       "Profession         124\n",
       "Work_Experience    829\n",
       "Spending_Score       0\n",
       "Family_Size        335\n",
       "Var_1               76\n",
       "Segmentation         0\n",
       "dtype: int64"
      ]
     },
     "execution_count": 15,
     "metadata": {},
     "output_type": "execute_result"
    }
   ],
   "source": [
    "df.isnull().sum()"
   ]
  },
  {
   "cell_type": "code",
   "execution_count": 16,
   "id": "3d4324dd",
   "metadata": {
    "ExecuteTime": {
     "end_time": "2024-10-03T13:33:29.937207Z",
     "start_time": "2024-10-03T13:33:29.344250Z"
    }
   },
   "outputs": [
    {
     "data": {
      "image/png": "[encoded data removed]",
      "text/plain": [
       "<Figure size 600x400 with 2 Axes>"
      ]
     },
     "metadata": {},
     "output_type": "display_data"
    }
   ],
   "source": [
    "# Null values heatmap:\n",
    "plt.figure(figsize = (6,4))\n",
    "sns.heatmap(df.isnull(), cmap='viridis')\n",
    "plt.title('Null Values')\n",
    "plt.show()"
   ]
  },
  {
   "cell_type": "code",
   "execution_count": 17,
   "id": "e81aea11",
   "metadata": {
    "ExecuteTime": {
     "end_time": "2024-10-03T13:33:31.213279Z",
     "start_time": "2024-10-03T13:33:30.937619Z"
    }
   },
   "outputs": [
    {
     "data": {
      "image/png": "[encoded data removed]",
      "text/plain": [
       "<Figure size 600x400 with 2 Axes>"
      ]
     },
     "metadata": {},
     "output_type": "display_data"
    }
   ],
   "source": [
    "# Correlation heatmap\n",
    "plt.figure(figsize = (6,4))\n",
    "sns.heatmap(df[numeric_list].corr(), annot = True)\n",
    "plt.title('Correlation Heatmap')\n",
    "plt.show()"
   ]
  },
  {
   "cell_type": "code",
   "execution_count": null,
   "id": "2c159fc3",
   "metadata": {},
   "outputs": [],
   "source": []
  },
  {
   "cell_type": "code",
   "execution_count": null,
   "id": "4e4db4a4",
   "metadata": {},
   "outputs": [],
   "source": []
  },
  {
   "cell_type": "code",
   "execution_count": null,
   "id": "6fe0e5fc",
   "metadata": {},
   "outputs": [],
   "source": []
  },
  {
   "cell_type": "code",
   "execution_count": null,
   "id": "179998bf",
   "metadata": {},
   "outputs": [],
   "source": []
  }
 ],
 "metadata": {
  "hide_input": false,
  "kernelspec": {
   "display_name": "Python 3 (ipykernel)",
   "language": "python",
   "name": "python3"
  },
  "language_info": {
   "codemirror_mode": {
    "name": "ipython",
    "version": 3
   },
   "file_extension": ".py",
   "mimetype": "text/x-python",
   "name": "python",
   "nbconvert_exporter": "python",
   "pygments_lexer": "ipython3",
   "version": "3.11.5"
  },
  "toc": {
   "base_numbering": 1,
   "nav_menu": {},
   "number_sections": true,
   "sideBar": true,
   "skip_h1_title": false,
   "title_cell": "Table of Contents",
   "title_sidebar": "Contents",
   "toc_cell": false,
   "toc_position": {},
   "toc_section_display": true,
   "toc_window_display": false
  }
 },
 "nbformat": 4,
 "nbformat_minor": 5
}
